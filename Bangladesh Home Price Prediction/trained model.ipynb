{
 "cells": [
  {
   "cell_type": "code",
   "execution_count": 1,
   "id": "723ddb9b-025d-4e9b-868f-a79740124951",
   "metadata": {},
   "outputs": [],
   "source": [
    "\n",
    "import pandas as pd\n",
    "import numpy as np\n",
    "from matplotlib import pyplot as plt\n",
    "%matplotlib inline\n",
    "import matplotlib \n",
    "matplotlib.rcParams[\"figure.figsize\"] = (20,10)"
   ]
  },
  {
   "cell_type": "code",
   "execution_count": 2,
   "id": "5374d7ab-860c-491b-9aef-9725eb8b845d",
   "metadata": {},
   "outputs": [
    {
     "data": {
      "text/html": [
       "<div>\n",
       "<style scoped>\n",
       "    .dataframe tbody tr th:only-of-type {\n",
       "        vertical-align: middle;\n",
       "    }\n",
       "\n",
       "    .dataframe tbody tr th {\n",
       "        vertical-align: top;\n",
       "    }\n",
       "\n",
       "    .dataframe thead th {\n",
       "        text-align: right;\n",
       "    }\n",
       "</style>\n",
       "<table border=\"1\" class=\"dataframe\">\n",
       "  <thead>\n",
       "    <tr style=\"text-align: right;\">\n",
       "      <th></th>\n",
       "      <th>Unnamed: 0.1</th>\n",
       "      <th>Unnamed: 0</th>\n",
       "      <th>Location</th>\n",
       "      <th>Price</th>\n",
       "      <th>Type</th>\n",
       "      <th>No. Beds</th>\n",
       "      <th>No. Baths</th>\n",
       "      <th>Area</th>\n",
       "      <th>Latitude</th>\n",
       "      <th>Longitude</th>\n",
       "      <th>Region</th>\n",
       "      <th>Sub-region</th>\n",
       "    </tr>\n",
       "  </thead>\n",
       "  <tbody>\n",
       "    <tr>\n",
       "      <th>0</th>\n",
       "      <td>0</td>\n",
       "      <td>0.0</td>\n",
       "      <td>Sector 10, Uttara, Dhaka</td>\n",
       "      <td>7500000</td>\n",
       "      <td>Apartment</td>\n",
       "      <td>3.0</td>\n",
       "      <td>3.0</td>\n",
       "      <td>1300.0</td>\n",
       "      <td>23.86846</td>\n",
       "      <td>90.39280</td>\n",
       "      <td>Uttara</td>\n",
       "      <td>Sector 10</td>\n",
       "    </tr>\n",
       "    <tr>\n",
       "      <th>1</th>\n",
       "      <td>1</td>\n",
       "      <td>1.0</td>\n",
       "      <td>Section 11, Mirpur, Dhaka</td>\n",
       "      <td>7280000</td>\n",
       "      <td>Apartment</td>\n",
       "      <td>4.0</td>\n",
       "      <td>4.0</td>\n",
       "      <td>1456.0</td>\n",
       "      <td>23.81223</td>\n",
       "      <td>90.35967</td>\n",
       "      <td>Mirpur</td>\n",
       "      <td>Section 11</td>\n",
       "    </tr>\n",
       "    <tr>\n",
       "      <th>2</th>\n",
       "      <td>2</td>\n",
       "      <td>2.0</td>\n",
       "      <td>Chowdhuripara, Khilgaon, Dhaka</td>\n",
       "      <td>13000000</td>\n",
       "      <td>Apartment</td>\n",
       "      <td>3.0</td>\n",
       "      <td>3.0</td>\n",
       "      <td>1550.0</td>\n",
       "      <td>23.75349</td>\n",
       "      <td>90.42469</td>\n",
       "      <td>Khilgaon</td>\n",
       "      <td>Chowdhuripara</td>\n",
       "    </tr>\n",
       "    <tr>\n",
       "      <th>3</th>\n",
       "      <td>3</td>\n",
       "      <td>3.0</td>\n",
       "      <td>Road No 4, Banani, Dhaka</td>\n",
       "      <td>37000000</td>\n",
       "      <td>Apartment</td>\n",
       "      <td>3.0</td>\n",
       "      <td>3.0</td>\n",
       "      <td>2669.0</td>\n",
       "      <td>23.78855</td>\n",
       "      <td>90.40081</td>\n",
       "      <td>Banani</td>\n",
       "      <td>Road No 4</td>\n",
       "    </tr>\n",
       "    <tr>\n",
       "      <th>4</th>\n",
       "      <td>4</td>\n",
       "      <td>4.0</td>\n",
       "      <td>South Banasree Project, Banasree, Dhaka</td>\n",
       "      <td>3600000</td>\n",
       "      <td>Apartment</td>\n",
       "      <td>2.0</td>\n",
       "      <td>2.0</td>\n",
       "      <td>835.0</td>\n",
       "      <td>23.76354</td>\n",
       "      <td>90.43180</td>\n",
       "      <td>Banasree</td>\n",
       "      <td>South Banasree Project</td>\n",
       "    </tr>\n",
       "  </tbody>\n",
       "</table>\n",
       "</div>"
      ],
      "text/plain": [
       "   Unnamed: 0.1  Unnamed: 0                                 Location  \\\n",
       "0             0         0.0                 Sector 10, Uttara, Dhaka   \n",
       "1             1         1.0                Section 11, Mirpur, Dhaka   \n",
       "2             2         2.0           Chowdhuripara, Khilgaon, Dhaka   \n",
       "3             3         3.0                 Road No 4, Banani, Dhaka   \n",
       "4             4         4.0  South Banasree Project, Banasree, Dhaka   \n",
       "\n",
       "      Price       Type  No. Beds  No. Baths    Area  Latitude  Longitude  \\\n",
       "0   7500000  Apartment       3.0        3.0  1300.0  23.86846   90.39280   \n",
       "1   7280000  Apartment       4.0        4.0  1456.0  23.81223   90.35967   \n",
       "2  13000000  Apartment       3.0        3.0  1550.0  23.75349   90.42469   \n",
       "3  37000000  Apartment       3.0        3.0  2669.0  23.78855   90.40081   \n",
       "4   3600000  Apartment       2.0        2.0   835.0  23.76354   90.43180   \n",
       "\n",
       "     Region              Sub-region  \n",
       "0    Uttara               Sector 10  \n",
       "1    Mirpur              Section 11  \n",
       "2  Khilgaon           Chowdhuripara  \n",
       "3    Banani               Road No 4  \n",
       "4  Banasree  South Banasree Project  "
      ]
     },
     "execution_count": 2,
     "metadata": {},
     "output_type": "execute_result"
    }
   ],
   "source": [
    "\n",
    "df1 = pd.read_csv(\"Bangladesh_property_prices.csv\")\n",
    "df1.head()"
   ]
  },
  {
   "cell_type": "code",
   "execution_count": 3,
   "id": "15c48dde-57a0-489f-a59a-1fd0ddb4c6e2",
   "metadata": {},
   "outputs": [
    {
     "data": {
      "text/plain": [
       "(4704, 5)"
      ]
     },
     "execution_count": 3,
     "metadata": {},
     "output_type": "execute_result"
    }
   ],
   "source": [
    "df2 = df1.drop(['Unnamed: 0.1','Unnamed: 0','Location','Type','Latitude','Sub-region','Longitude'],axis='columns')\n",
    "df2.shape"
   ]
  },
  {
   "cell_type": "code",
   "execution_count": 4,
   "id": "ceb3361a-6d66-493e-b804-0ce4bceaa3c0",
   "metadata": {},
   "outputs": [
    {
     "data": {
      "text/plain": [
       "Price          0\n",
       "No. Beds     204\n",
       "No. Baths    204\n",
       "Area           0\n",
       "Region         0\n",
       "dtype: int64"
      ]
     },
     "execution_count": 4,
     "metadata": {},
     "output_type": "execute_result"
    }
   ],
   "source": [
    "df2.isnull().sum()"
   ]
  },
  {
   "cell_type": "code",
   "execution_count": 5,
   "id": "cd58cffc-7457-4aca-9dc6-073919b12d24",
   "metadata": {},
   "outputs": [
    {
     "data": {
      "text/plain": [
       "Price        0\n",
       "No. Beds     0\n",
       "No. Baths    0\n",
       "Area         0\n",
       "Region       0\n",
       "dtype: int64"
      ]
     },
     "execution_count": 5,
     "metadata": {},
     "output_type": "execute_result"
    }
   ],
   "source": [
    "\n",
    "df3 = df2.dropna()\n",
    "df3.isnull().sum()\n"
   ]
  },
  {
   "cell_type": "code",
   "execution_count": 9,
   "id": "a28aaed0-1c8e-46d4-a626-6418973a8a4a",
   "metadata": {},
   "outputs": [
    {
     "data": {
      "text/html": [
       "<div>\n",
       "<style scoped>\n",
       "    .dataframe tbody tr th:only-of-type {\n",
       "        vertical-align: middle;\n",
       "    }\n",
       "\n",
       "    .dataframe tbody tr th {\n",
       "        vertical-align: top;\n",
       "    }\n",
       "\n",
       "    .dataframe thead th {\n",
       "        text-align: right;\n",
       "    }\n",
       "</style>\n",
       "<table border=\"1\" class=\"dataframe\">\n",
       "  <thead>\n",
       "    <tr style=\"text-align: right;\">\n",
       "      <th></th>\n",
       "      <th>Price</th>\n",
       "      <th>No. Beds</th>\n",
       "      <th>No. Baths</th>\n",
       "      <th>Area</th>\n",
       "      <th>Region</th>\n",
       "      <th>price_per_sqft</th>\n",
       "    </tr>\n",
       "  </thead>\n",
       "  <tbody>\n",
       "    <tr>\n",
       "      <th>0</th>\n",
       "      <td>7500000</td>\n",
       "      <td>3.0</td>\n",
       "      <td>3.0</td>\n",
       "      <td>1300.0</td>\n",
       "      <td>Uttara</td>\n",
       "      <td>5.769231</td>\n",
       "    </tr>\n",
       "    <tr>\n",
       "      <th>1</th>\n",
       "      <td>7280000</td>\n",
       "      <td>4.0</td>\n",
       "      <td>4.0</td>\n",
       "      <td>1456.0</td>\n",
       "      <td>Mirpur</td>\n",
       "      <td>5.000000</td>\n",
       "    </tr>\n",
       "    <tr>\n",
       "      <th>2</th>\n",
       "      <td>13000000</td>\n",
       "      <td>3.0</td>\n",
       "      <td>3.0</td>\n",
       "      <td>1550.0</td>\n",
       "      <td>Khilgaon</td>\n",
       "      <td>8.387097</td>\n",
       "    </tr>\n",
       "    <tr>\n",
       "      <th>3</th>\n",
       "      <td>37000000</td>\n",
       "      <td>3.0</td>\n",
       "      <td>3.0</td>\n",
       "      <td>2669.0</td>\n",
       "      <td>Banani</td>\n",
       "      <td>13.862870</td>\n",
       "    </tr>\n",
       "    <tr>\n",
       "      <th>4</th>\n",
       "      <td>3600000</td>\n",
       "      <td>2.0</td>\n",
       "      <td>2.0</td>\n",
       "      <td>835.0</td>\n",
       "      <td>Banasree</td>\n",
       "      <td>4.311377</td>\n",
       "    </tr>\n",
       "  </tbody>\n",
       "</table>\n",
       "</div>"
      ],
      "text/plain": [
       "      Price  No. Beds  No. Baths    Area    Region  price_per_sqft\n",
       "0   7500000       3.0        3.0  1300.0    Uttara        5.769231\n",
       "1   7280000       4.0        4.0  1456.0    Mirpur        5.000000\n",
       "2  13000000       3.0        3.0  1550.0  Khilgaon        8.387097\n",
       "3  37000000       3.0        3.0  2669.0    Banani       13.862870\n",
       "4   3600000       2.0        2.0   835.0  Banasree        4.311377"
      ]
     },
     "execution_count": 9,
     "metadata": {},
     "output_type": "execute_result"
    }
   ],
   "source": [
    "df4 = df3.copy()\n",
    "df4['price_per_sqft'] = df4['Price']/(df4*1000)['Area']\n",
    "df4.head()"
   ]
  },
  {
   "cell_type": "code",
   "execution_count": 10,
   "id": "23c09006-6dca-4455-97ea-613fe63268ff",
   "metadata": {},
   "outputs": [
    {
     "data": {
      "text/plain": [
       "count    4500.000000\n",
       "mean        6.222235\n",
       "std         2.604004\n",
       "min         0.416667\n",
       "25%         4.558791\n",
       "50%         5.569679\n",
       "75%         7.000000\n",
       "max        30.000000\n",
       "Name: price_per_sqft, dtype: float64"
      ]
     },
     "execution_count": 10,
     "metadata": {},
     "output_type": "execute_result"
    }
   ],
   "source": [
    "\n",
    "df4_stats = df4['price_per_sqft'].describe()\n",
    "df4_stats"
   ]
  },
  {
   "cell_type": "code",
   "execution_count": 12,
   "id": "9497437b-bb91-4ab5-a2ac-53f5047d567b",
   "metadata": {},
   "outputs": [
    {
     "data": {
      "text/plain": [
       "Region\n",
       "Mirpur            830\n",
       "Mohammadpur       398\n",
       "BashundharaR-A    323\n",
       "Uttara            318\n",
       "Badda             228\n",
       "                 ... \n",
       "UttarKhan           2\n",
       "Kafrul              2\n",
       "Nadda               1\n",
       "Taltola             1\n",
       "Shahbagh            1\n",
       "Name: count, Length: 66, dtype: int64"
      ]
     },
     "execution_count": 12,
     "metadata": {},
     "output_type": "execute_result"
    }
   ],
   "source": [
    "df4.Region = df4.Region.apply(lambda x: x.strip())\n",
    "location_stats = df4['Region'].value_counts(ascending=False)\n",
    "location_stats"
   ]
  },
  {
   "cell_type": "code",
   "execution_count": 14,
   "id": "0f62ad6e-5325-4071-bf35-3fc730d65bdc",
   "metadata": {},
   "outputs": [
    {
     "data": {
      "text/plain": [
       "Region\n",
       "BaridharaDOHS        9\n",
       "Kotwali              8\n",
       "Paribagh             7\n",
       "Kachukhet            7\n",
       "Hatirpool            7\n",
       "JoarSahara           7\n",
       "Shegunbagicha        6\n",
       "Khilkhet             6\n",
       "NewMarket            5\n",
       "NorthShahjahanpur    5\n",
       "Zafrabad             3\n",
       "MohakhaliDOHS        3\n",
       "Kuril                3\n",
       "Nikunja              3\n",
       "Maniknagar           2\n",
       "BananiDOHS           2\n",
       "UttarKhan            2\n",
       "Kafrul               2\n",
       "Nadda                1\n",
       "Taltola              1\n",
       "Shahbagh             1\n",
       "Name: count, dtype: int64"
      ]
     },
     "execution_count": 14,
     "metadata": {},
     "output_type": "execute_result"
    }
   ],
   "source": [
    "\n",
    "location_stats_less_than_10 = location_stats[location_stats<=10]\n",
    "location_stats_less_than_10"
   ]
  },
  {
   "cell_type": "code",
   "execution_count": 16,
   "id": "3e349441-569c-4520-8f93-de019e128da8",
   "metadata": {},
   "outputs": [
    {
     "data": {
      "text/plain": [
       "66"
      ]
     },
     "execution_count": 16,
     "metadata": {},
     "output_type": "execute_result"
    }
   ],
   "source": [
    "\n",
    "len(df4.Region.unique())"
   ]
  },
  {
   "cell_type": "code",
   "execution_count": 17,
   "id": "7b862639-2043-4571-b887-e4a447e994e9",
   "metadata": {},
   "outputs": [
    {
     "data": {
      "text/html": [
       "<div>\n",
       "<style scoped>\n",
       "    .dataframe tbody tr th:only-of-type {\n",
       "        vertical-align: middle;\n",
       "    }\n",
       "\n",
       "    .dataframe tbody tr th {\n",
       "        vertical-align: top;\n",
       "    }\n",
       "\n",
       "    .dataframe thead th {\n",
       "        text-align: right;\n",
       "    }\n",
       "</style>\n",
       "<table border=\"1\" class=\"dataframe\">\n",
       "  <thead>\n",
       "    <tr style=\"text-align: right;\">\n",
       "      <th></th>\n",
       "      <th>Price</th>\n",
       "      <th>No. Beds</th>\n",
       "      <th>No. Baths</th>\n",
       "      <th>Area</th>\n",
       "      <th>Region</th>\n",
       "      <th>price_per_sqft</th>\n",
       "    </tr>\n",
       "  </thead>\n",
       "  <tbody>\n",
       "    <tr>\n",
       "      <th>0</th>\n",
       "      <td>7500000</td>\n",
       "      <td>3.0</td>\n",
       "      <td>3.0</td>\n",
       "      <td>1300.0</td>\n",
       "      <td>Uttara</td>\n",
       "      <td>5.769231</td>\n",
       "    </tr>\n",
       "    <tr>\n",
       "      <th>1</th>\n",
       "      <td>7280000</td>\n",
       "      <td>4.0</td>\n",
       "      <td>4.0</td>\n",
       "      <td>1456.0</td>\n",
       "      <td>Mirpur</td>\n",
       "      <td>5.000000</td>\n",
       "    </tr>\n",
       "    <tr>\n",
       "      <th>2</th>\n",
       "      <td>13000000</td>\n",
       "      <td>3.0</td>\n",
       "      <td>3.0</td>\n",
       "      <td>1550.0</td>\n",
       "      <td>Khilgaon</td>\n",
       "      <td>8.387097</td>\n",
       "    </tr>\n",
       "    <tr>\n",
       "      <th>3</th>\n",
       "      <td>37000000</td>\n",
       "      <td>3.0</td>\n",
       "      <td>3.0</td>\n",
       "      <td>2669.0</td>\n",
       "      <td>Banani</td>\n",
       "      <td>13.862870</td>\n",
       "    </tr>\n",
       "    <tr>\n",
       "      <th>4</th>\n",
       "      <td>3600000</td>\n",
       "      <td>2.0</td>\n",
       "      <td>2.0</td>\n",
       "      <td>835.0</td>\n",
       "      <td>Banasree</td>\n",
       "      <td>4.311377</td>\n",
       "    </tr>\n",
       "  </tbody>\n",
       "</table>\n",
       "</div>"
      ],
      "text/plain": [
       "      Price  No. Beds  No. Baths    Area    Region  price_per_sqft\n",
       "0   7500000       3.0        3.0  1300.0    Uttara        5.769231\n",
       "1   7280000       4.0        4.0  1456.0    Mirpur        5.000000\n",
       "2  13000000       3.0        3.0  1550.0  Khilgaon        8.387097\n",
       "3  37000000       3.0        3.0  2669.0    Banani       13.862870\n",
       "4   3600000       2.0        2.0   835.0  Banasree        4.311377"
      ]
     },
     "execution_count": 17,
     "metadata": {},
     "output_type": "execute_result"
    }
   ],
   "source": [
    "df4.head()"
   ]
  },
  {
   "cell_type": "code",
   "execution_count": 18,
   "id": "060b607d-e5d4-4417-8a61-4724bb2c4e99",
   "metadata": {},
   "outputs": [],
   "source": [
    "df4[\"Price\"] = df4[\"Price\"] / 100000"
   ]
  },
  {
   "cell_type": "code",
   "execution_count": 19,
   "id": "58c3dfef-0593-4eff-84f6-dbb2e670311a",
   "metadata": {},
   "outputs": [
    {
     "data": {
      "text/html": [
       "<div>\n",
       "<style scoped>\n",
       "    .dataframe tbody tr th:only-of-type {\n",
       "        vertical-align: middle;\n",
       "    }\n",
       "\n",
       "    .dataframe tbody tr th {\n",
       "        vertical-align: top;\n",
       "    }\n",
       "\n",
       "    .dataframe thead th {\n",
       "        text-align: right;\n",
       "    }\n",
       "</style>\n",
       "<table border=\"1\" class=\"dataframe\">\n",
       "  <thead>\n",
       "    <tr style=\"text-align: right;\">\n",
       "      <th></th>\n",
       "      <th>Price</th>\n",
       "      <th>No. Beds</th>\n",
       "      <th>No. Baths</th>\n",
       "      <th>Area</th>\n",
       "      <th>Region</th>\n",
       "      <th>price_per_sqft</th>\n",
       "    </tr>\n",
       "  </thead>\n",
       "  <tbody>\n",
       "    <tr>\n",
       "      <th>0</th>\n",
       "      <td>75.0</td>\n",
       "      <td>3.0</td>\n",
       "      <td>3.0</td>\n",
       "      <td>1300.0</td>\n",
       "      <td>Uttara</td>\n",
       "      <td>5.769231</td>\n",
       "    </tr>\n",
       "    <tr>\n",
       "      <th>1</th>\n",
       "      <td>72.8</td>\n",
       "      <td>4.0</td>\n",
       "      <td>4.0</td>\n",
       "      <td>1456.0</td>\n",
       "      <td>Mirpur</td>\n",
       "      <td>5.000000</td>\n",
       "    </tr>\n",
       "    <tr>\n",
       "      <th>2</th>\n",
       "      <td>130.0</td>\n",
       "      <td>3.0</td>\n",
       "      <td>3.0</td>\n",
       "      <td>1550.0</td>\n",
       "      <td>Khilgaon</td>\n",
       "      <td>8.387097</td>\n",
       "    </tr>\n",
       "    <tr>\n",
       "      <th>3</th>\n",
       "      <td>370.0</td>\n",
       "      <td>3.0</td>\n",
       "      <td>3.0</td>\n",
       "      <td>2669.0</td>\n",
       "      <td>Banani</td>\n",
       "      <td>13.862870</td>\n",
       "    </tr>\n",
       "    <tr>\n",
       "      <th>4</th>\n",
       "      <td>36.0</td>\n",
       "      <td>2.0</td>\n",
       "      <td>2.0</td>\n",
       "      <td>835.0</td>\n",
       "      <td>Banasree</td>\n",
       "      <td>4.311377</td>\n",
       "    </tr>\n",
       "  </tbody>\n",
       "</table>\n",
       "</div>"
      ],
      "text/plain": [
       "   Price  No. Beds  No. Baths    Area    Region  price_per_sqft\n",
       "0   75.0       3.0        3.0  1300.0    Uttara        5.769231\n",
       "1   72.8       4.0        4.0  1456.0    Mirpur        5.000000\n",
       "2  130.0       3.0        3.0  1550.0  Khilgaon        8.387097\n",
       "3  370.0       3.0        3.0  2669.0    Banani       13.862870\n",
       "4   36.0       2.0        2.0   835.0  Banasree        4.311377"
      ]
     },
     "execution_count": 19,
     "metadata": {},
     "output_type": "execute_result"
    }
   ],
   "source": [
    "df4.head()"
   ]
  },
  {
   "cell_type": "code",
   "execution_count": 21,
   "id": "94a10567-361b-4381-9e6f-1e277c08694e",
   "metadata": {},
   "outputs": [],
   "source": [
    "\n",
    "df5= df4"
   ]
  },
  {
   "cell_type": "code",
   "execution_count": 22,
   "id": "c112071f-e55e-46e8-aaf4-a364d68f7049",
   "metadata": {},
   "outputs": [
    {
     "data": {
      "text/html": [
       "<div>\n",
       "<style scoped>\n",
       "    .dataframe tbody tr th:only-of-type {\n",
       "        vertical-align: middle;\n",
       "    }\n",
       "\n",
       "    .dataframe tbody tr th {\n",
       "        vertical-align: top;\n",
       "    }\n",
       "\n",
       "    .dataframe thead th {\n",
       "        text-align: right;\n",
       "    }\n",
       "</style>\n",
       "<table border=\"1\" class=\"dataframe\">\n",
       "  <thead>\n",
       "    <tr style=\"text-align: right;\">\n",
       "      <th></th>\n",
       "      <th>Price</th>\n",
       "      <th>No. Beds</th>\n",
       "      <th>No. Baths</th>\n",
       "      <th>Area</th>\n",
       "      <th>Region</th>\n",
       "      <th>price_per_sqft</th>\n",
       "    </tr>\n",
       "  </thead>\n",
       "  <tbody>\n",
       "  </tbody>\n",
       "</table>\n",
       "</div>"
      ],
      "text/plain": [
       "Empty DataFrame\n",
       "Columns: [Price, No. Beds, No. Baths, Area, Region, price_per_sqft]\n",
       "Index: []"
      ]
     },
     "execution_count": 22,
     "metadata": {},
     "output_type": "execute_result"
    }
   ],
   "source": [
    "df5[(df5.Area/df5['No. Beds'])<120].head()"
   ]
  },
  {
   "cell_type": "code",
   "execution_count": 23,
   "id": "a4a2bbcc-efe6-4e63-8b01-44f9758a5ce8",
   "metadata": {},
   "outputs": [
    {
     "data": {
      "text/html": [
       "<div>\n",
       "<style scoped>\n",
       "    .dataframe tbody tr th:only-of-type {\n",
       "        vertical-align: middle;\n",
       "    }\n",
       "\n",
       "    .dataframe tbody tr th {\n",
       "        vertical-align: top;\n",
       "    }\n",
       "\n",
       "    .dataframe thead th {\n",
       "        text-align: right;\n",
       "    }\n",
       "</style>\n",
       "<table border=\"1\" class=\"dataframe\">\n",
       "  <thead>\n",
       "    <tr style=\"text-align: right;\">\n",
       "      <th></th>\n",
       "      <th>Price</th>\n",
       "      <th>No. Beds</th>\n",
       "      <th>No. Baths</th>\n",
       "      <th>Area</th>\n",
       "      <th>Region</th>\n",
       "      <th>price_per_sqft</th>\n",
       "    </tr>\n",
       "  </thead>\n",
       "  <tbody>\n",
       "    <tr>\n",
       "      <th>0</th>\n",
       "      <td>75.0</td>\n",
       "      <td>3.0</td>\n",
       "      <td>3.0</td>\n",
       "      <td>1300.0</td>\n",
       "      <td>Uttara</td>\n",
       "      <td>5.769231</td>\n",
       "    </tr>\n",
       "    <tr>\n",
       "      <th>1</th>\n",
       "      <td>72.8</td>\n",
       "      <td>4.0</td>\n",
       "      <td>4.0</td>\n",
       "      <td>1456.0</td>\n",
       "      <td>Mirpur</td>\n",
       "      <td>5.000000</td>\n",
       "    </tr>\n",
       "    <tr>\n",
       "      <th>2</th>\n",
       "      <td>130.0</td>\n",
       "      <td>3.0</td>\n",
       "      <td>3.0</td>\n",
       "      <td>1550.0</td>\n",
       "      <td>Khilgaon</td>\n",
       "      <td>8.387097</td>\n",
       "    </tr>\n",
       "    <tr>\n",
       "      <th>3</th>\n",
       "      <td>370.0</td>\n",
       "      <td>3.0</td>\n",
       "      <td>3.0</td>\n",
       "      <td>2669.0</td>\n",
       "      <td>Banani</td>\n",
       "      <td>13.862870</td>\n",
       "    </tr>\n",
       "    <tr>\n",
       "      <th>4</th>\n",
       "      <td>36.0</td>\n",
       "      <td>2.0</td>\n",
       "      <td>2.0</td>\n",
       "      <td>835.0</td>\n",
       "      <td>Banasree</td>\n",
       "      <td>4.311377</td>\n",
       "    </tr>\n",
       "  </tbody>\n",
       "</table>\n",
       "</div>"
      ],
      "text/plain": [
       "   Price  No. Beds  No. Baths    Area    Region  price_per_sqft\n",
       "0   75.0       3.0        3.0  1300.0    Uttara        5.769231\n",
       "1   72.8       4.0        4.0  1456.0    Mirpur        5.000000\n",
       "2  130.0       3.0        3.0  1550.0  Khilgaon        8.387097\n",
       "3  370.0       3.0        3.0  2669.0    Banani       13.862870\n",
       "4   36.0       2.0        2.0   835.0  Banasree        4.311377"
      ]
     },
     "execution_count": 23,
     "metadata": {},
     "output_type": "execute_result"
    }
   ],
   "source": [
    "df6 = df5[~(df5.Area/df5['No. Beds']<120)]\n",
    "df6.shape\n",
    "df6.head()"
   ]
  },
  {
   "cell_type": "code",
   "execution_count": 24,
   "id": "70e0d903-fb8e-4921-8bd8-b51893586e02",
   "metadata": {},
   "outputs": [
    {
     "data": {
      "text/plain": [
       "count    4500.000000\n",
       "mean        6.222235\n",
       "std         2.604004\n",
       "min         0.416667\n",
       "25%         4.558791\n",
       "50%         5.569679\n",
       "75%         7.000000\n",
       "max        30.000000\n",
       "Name: price_per_sqft, dtype: float64"
      ]
     },
     "execution_count": 24,
     "metadata": {},
     "output_type": "execute_result"
    }
   ],
   "source": [
    "df6.price_per_sqft.describe()"
   ]
  },
  {
   "cell_type": "code",
   "execution_count": 26,
   "id": "2ed339ea-0fe2-45ff-a9e2-b46c2dcd207b",
   "metadata": {},
   "outputs": [
    {
     "data": {
      "text/plain": [
       "count    4500.000000\n",
       "mean        6.222235\n",
       "std         2.604004\n",
       "min         0.416667\n",
       "25%         4.558791\n",
       "50%         5.569679\n",
       "75%         7.000000\n",
       "max        30.000000\n",
       "Name: price_per_sqft, dtype: float64"
      ]
     },
     "execution_count": 26,
     "metadata": {},
     "output_type": "execute_result"
    }
   ],
   "source": [
    "def remove_pps_outliers(df): \n",
    "    df_out= pd.DataFrame()\n",
    "\n",
    "    for key,subdf in df.groupby('Area'):\n",
    "        m= np.mean(subdf.price_per_sqft)\n",
    "        st= np.std(subdf.price_per_sqft)\n",
    "\n",
    "        reduced_df= subdf[(subdf.price_per_sqft > (m-st)) & (subdf.price_per_sqft < (m+st))]\n",
    "        df_out= pd.concat([df_out, reduced_df],ignore_index=True)\n",
    "\n",
    "    return df_out\n",
    "\n",
    "\n",
    "df7= remove_pps_outliers(df6)\n",
    "df7.head()\n",
    "df6.price_per_sqft.describe()\n"
   ]
  },
  {
   "cell_type": "code",
   "execution_count": 27,
   "id": "bf0220dd-3ed7-4d48-95ca-035cd4c7f55c",
   "metadata": {},
   "outputs": [
    {
     "data": {
      "image/png": "[encoded data removed]",
      "text/plain": [
       "<Figure size 1200x500 with 1 Axes>"
      ]
     },
     "metadata": {},
     "output_type": "display_data"
    }
   ],
   "source": [
    "def plot_scatter_chart(df, Region): \n",
    "    bhk2= df[(df.Region== Region) & (df['No. Beds'] ==2)]\n",
    "    bhk3= df[(df.Region== Region) & (df['No. Beds'] ==3)]\n",
    "    matplotlib.rcParams['figure.figsize'] = (12,5)\n",
    "    plt.scatter(bhk2.Area, bhk2.Price, color= 'blue',label='2 BHK', s=50) \n",
    "    plt.scatter(bhk3.Area, bhk3.Price,marker='+', color= 'green',label='3 BHK', s=50) \n",
    "    plt.xlabel(\"Total Square Feet Area\")\n",
    "    plt.ylabel(\"Price (taka)\")\n",
    "    plt.title(Region)\n",
    "    plt.legend()\n",
    "\n",
    "plot_scatter_chart(df7,\"Cantonment\")"
   ]
  },
  {
   "cell_type": "code",
   "execution_count": 28,
   "id": "98dc9f40-cc34-4ab2-86eb-12dde38df8f5",
   "metadata": {},
   "outputs": [
    {
     "data": {
      "text/plain": [
       "(2274, 6)"
      ]
     },
     "execution_count": 28,
     "metadata": {},
     "output_type": "execute_result"
    }
   ],
   "source": [
    "def remove_bhk_outliers(df):\n",
    "    \"\"\"\n",
    "    Removes outlier properties where the price per square foot (price_per_sqft)\n",
    "    for a given number of bedrooms (bhk) is unusually low compared to the previous \n",
    "    bhk category within the same location.\n",
    "\n",
    "    Parameters:\n",
    "        df (DataFrame): Input DataFrame with 'location', 'bhk', and 'price_per_sqft' columns.\n",
    "\n",
    "    Returns:\n",
    "        DataFrame: A new DataFrame with outliers removed.\n",
    "    \"\"\"\n",
    "    \n",
    "    # Initialize an empty array to store the indices of rows to be excluded\n",
    "    exclude_indices = np.array([])\n",
    "\n",
    "    # Group the DataFrame by 'location'\n",
    "    for location, location_df in df.groupby('Region'):\n",
    "        # Create a dictionary to store statistics (mean, std, count) for each bhk in the current location\n",
    "        bhk_stats = {}\n",
    "\n",
    "        # Iterate over each bhk group within the current location\n",
    "        for bhk, bhk_df in location_df.groupby('No. Beds'):\n",
    "            # Calculate and store statistics for the current bhk group\n",
    "            bhk_stats[bhk] = {\n",
    "                'mean': np.mean(bhk_df.price_per_sqft),  # Mean price per square foot\n",
    "                'std': np.std(bhk_df.price_per_sqft),    # Standard deviation\n",
    "                'count': bhk_df.shape[0]                 # Number of rows (count)\n",
    "            }\n",
    "\n",
    "        # Iterate again over each bhk group to identify and exclude outliers\n",
    "        for bhk, bhk_df in location_df.groupby('No. Beds'):\n",
    "            # Get statistics for the previous bhk (bhk-1)\n",
    "            stats = bhk_stats.get(bhk - 1)\n",
    "\n",
    "            # Check if statistics exist for bhk-1 and if the group has more than 5 rows\n",
    "            if stats and stats['count'] > 5:\n",
    "                # Identify rows in the current bhk group where price_per_sqft is below the mean of bhk-1\n",
    "                outliers = bhk_df[bhk_df.price_per_sqft < stats['mean']].index.values\n",
    "\n",
    "                # Append the indices of these rows to the exclude_indices array\n",
    "                exclude_indices = np.append(exclude_indices, outliers)\n",
    "\n",
    "    # Drop all rows with indices in exclude_indices and return the cleaned DataFrame\n",
    "    return df.drop(exclude_indices, axis='index')\n",
    "\n",
    "\n",
    "# Apply the function to remove BHK outliers from the DataFrame df7\n",
    "df8 = remove_bhk_outliers(df7)\n",
    "\n",
    "# Print the shape of the resulting DataFrame after removing outliers\n",
    "df8.shape\n"
   ]
  },
  {
   "cell_type": "code",
   "execution_count": 29,
   "id": "7c152730-f712-41dc-92d9-09dbfdc0cddc",
   "metadata": {},
   "outputs": [
    {
     "data": {
      "image/png": "[encoded data removed]",
      "text/plain": [
       "<Figure size 1200x500 with 1 Axes>"
      ]
     },
     "metadata": {},
     "output_type": "display_data"
    }
   ],
   "source": [
    "plot_scatter_chart(df7,\"Cantonment\")"
   ]
  },
  {
   "cell_type": "code",
   "execution_count": 30,
   "id": "87b89962-9e55-41fc-9a7c-4950f8be580f",
   "metadata": {},
   "outputs": [
    {
     "data": {
      "text/plain": [
       "Text(0, 0.5, 'count')"
      ]
     },
     "execution_count": 30,
     "metadata": {},
     "output_type": "execute_result"
    },
    {
     "data": {
      "image/png": "[encoded data removed]",
      "text/plain": [
       "<Figure size 2000x1000 with 1 Axes>"
      ]
     },
     "metadata": {},
     "output_type": "display_data"
    }
   ],
   "source": [
    "import matplotlib\n",
    "matplotlib.rcParams[\"figure.figsize\"] = (20,10)\n",
    "plt.hist(df8.price_per_sqft, rwidth=0.8) \n",
    "plt.xlabel('price per sqrt')\n",
    "plt.ylabel('count')"
   ]
  },
  {
   "cell_type": "code",
   "execution_count": 31,
   "id": "67e4b846-d722-4003-928d-f710cee28c68",
   "metadata": {},
   "outputs": [
    {
     "data": {
      "text/plain": [
       "array([1., 2., 3., 4., 5., 6., 8.])"
      ]
     },
     "execution_count": 31,
     "metadata": {},
     "output_type": "execute_result"
    }
   ],
   "source": [
    "df8['No. Baths'].unique()"
   ]
  },
  {
   "cell_type": "code",
   "execution_count": 40,
   "id": "adb2a1b9-3da4-4644-a7f2-1596cc71e2fa",
   "metadata": {},
   "outputs": [
    {
     "data": {
      "text/plain": [
       "Text(0, 0.5, 'Count')"
      ]
     },
     "execution_count": 40,
     "metadata": {},
     "output_type": "execute_result"
    },
    {
     "data": {
      "image/png": "[encoded data removed]",
      "text/plain": [
       "<Figure size 2000x1000 with 1 Axes>"
      ]
     },
     "metadata": {},
     "output_type": "display_data"
    }
   ],
   "source": [
    "plt.hist(df8['No. Baths'],rwidth=0.8)\n",
    "plt.xlabel(\"Number of bathrooms\")\n",
    "plt.ylabel(\"Count\")"
   ]
  },
  {
   "cell_type": "code",
   "execution_count": 33,
   "id": "3d47a770-4f26-4fd9-9aa1-dd237c7e4824",
   "metadata": {},
   "outputs": [],
   "source": [
    "df9= df8[df8['No. Baths'] > df8['No. Beds'] +2]"
   ]
  },
  {
   "cell_type": "code",
   "execution_count": 34,
   "id": "8e7b3d4d-b1ad-43ca-bc96-971f8cdfc517",
   "metadata": {},
   "outputs": [
    {
     "data": {
      "text/plain": [
       "(2271, 6)"
      ]
     },
     "execution_count": 34,
     "metadata": {},
     "output_type": "execute_result"
    }
   ],
   "source": [
    "df9= df8[df8['No. Baths'] < df8['No. Beds'] +2]\n",
    "df9.shape"
   ]
  },
  {
   "cell_type": "code",
   "execution_count": 35,
   "id": "cbd2a1d8-87ce-4603-8434-6fc9062913c7",
   "metadata": {},
   "outputs": [
    {
     "data": {
      "text/html": [
       "<div>\n",
       "<style scoped>\n",
       "    .dataframe tbody tr th:only-of-type {\n",
       "        vertical-align: middle;\n",
       "    }\n",
       "\n",
       "    .dataframe tbody tr th {\n",
       "        vertical-align: top;\n",
       "    }\n",
       "\n",
       "    .dataframe thead th {\n",
       "        text-align: right;\n",
       "    }\n",
       "</style>\n",
       "<table border=\"1\" class=\"dataframe\">\n",
       "  <thead>\n",
       "    <tr style=\"text-align: right;\">\n",
       "      <th></th>\n",
       "      <th>Price</th>\n",
       "      <th>No. Beds</th>\n",
       "      <th>No. Baths</th>\n",
       "      <th>Area</th>\n",
       "      <th>Region</th>\n",
       "    </tr>\n",
       "  </thead>\n",
       "  <tbody>\n",
       "    <tr>\n",
       "      <th>0</th>\n",
       "      <td>16.0</td>\n",
       "      <td>2.0</td>\n",
       "      <td>1.0</td>\n",
       "      <td>400.0</td>\n",
       "      <td>Mugdapara</td>\n",
       "    </tr>\n",
       "    <tr>\n",
       "      <th>1</th>\n",
       "      <td>16.0</td>\n",
       "      <td>2.0</td>\n",
       "      <td>1.0</td>\n",
       "      <td>400.0</td>\n",
       "      <td>Lalbagh</td>\n",
       "    </tr>\n",
       "    <tr>\n",
       "      <th>2</th>\n",
       "      <td>16.0</td>\n",
       "      <td>2.0</td>\n",
       "      <td>1.0</td>\n",
       "      <td>450.0</td>\n",
       "      <td>Cantonment</td>\n",
       "    </tr>\n",
       "  </tbody>\n",
       "</table>\n",
       "</div>"
      ],
      "text/plain": [
       "   Price  No. Beds  No. Baths   Area      Region\n",
       "0   16.0       2.0        1.0  400.0   Mugdapara\n",
       "1   16.0       2.0        1.0  400.0     Lalbagh\n",
       "2   16.0       2.0        1.0  450.0  Cantonment"
      ]
     },
     "execution_count": 35,
     "metadata": {},
     "output_type": "execute_result"
    }
   ],
   "source": [
    "df10 = df9.drop(['price_per_sqft'],axis='columns')\n",
    "df10.head(3)"
   ]
  },
  {
   "cell_type": "code",
   "execution_count": 36,
   "id": "b3345625-c293-466f-b126-cd0c44711edf",
   "metadata": {},
   "outputs": [
    {
     "data": {
      "text/html": [
       "<div>\n",
       "<style scoped>\n",
       "    .dataframe tbody tr th:only-of-type {\n",
       "        vertical-align: middle;\n",
       "    }\n",
       "\n",
       "    .dataframe tbody tr th {\n",
       "        vertical-align: top;\n",
       "    }\n",
       "\n",
       "    .dataframe thead th {\n",
       "        text-align: right;\n",
       "    }\n",
       "</style>\n",
       "<table border=\"1\" class=\"dataframe\">\n",
       "  <thead>\n",
       "    <tr style=\"text-align: right;\">\n",
       "      <th></th>\n",
       "      <th>Adabor</th>\n",
       "      <th>AftabNagar</th>\n",
       "      <th>Agargaon</th>\n",
       "      <th>Badda</th>\n",
       "      <th>Banani</th>\n",
       "      <th>Banasree</th>\n",
       "      <th>Bangshal</th>\n",
       "      <th>Baridhara</th>\n",
       "      <th>Bashabo</th>\n",
       "      <th>BashundharaR-A</th>\n",
       "      <th>...</th>\n",
       "      <th>Shantinagar</th>\n",
       "      <th>Shegunbagicha</th>\n",
       "      <th>Shiddheswari</th>\n",
       "      <th>Shyamoli</th>\n",
       "      <th>Shyampur</th>\n",
       "      <th>Sutrapur</th>\n",
       "      <th>Tejgaon</th>\n",
       "      <th>Turag</th>\n",
       "      <th>Uttara</th>\n",
       "      <th>Zafrabad</th>\n",
       "    </tr>\n",
       "  </thead>\n",
       "  <tbody>\n",
       "    <tr>\n",
       "      <th>0</th>\n",
       "      <td>0</td>\n",
       "      <td>0</td>\n",
       "      <td>0</td>\n",
       "      <td>0</td>\n",
       "      <td>0</td>\n",
       "      <td>0</td>\n",
       "      <td>0</td>\n",
       "      <td>0</td>\n",
       "      <td>0</td>\n",
       "      <td>0</td>\n",
       "      <td>...</td>\n",
       "      <td>0</td>\n",
       "      <td>0</td>\n",
       "      <td>0</td>\n",
       "      <td>0</td>\n",
       "      <td>0</td>\n",
       "      <td>0</td>\n",
       "      <td>0</td>\n",
       "      <td>0</td>\n",
       "      <td>0</td>\n",
       "      <td>0</td>\n",
       "    </tr>\n",
       "    <tr>\n",
       "      <th>1</th>\n",
       "      <td>0</td>\n",
       "      <td>0</td>\n",
       "      <td>0</td>\n",
       "      <td>0</td>\n",
       "      <td>0</td>\n",
       "      <td>0</td>\n",
       "      <td>0</td>\n",
       "      <td>0</td>\n",
       "      <td>0</td>\n",
       "      <td>0</td>\n",
       "      <td>...</td>\n",
       "      <td>0</td>\n",
       "      <td>0</td>\n",
       "      <td>0</td>\n",
       "      <td>0</td>\n",
       "      <td>0</td>\n",
       "      <td>0</td>\n",
       "      <td>0</td>\n",
       "      <td>0</td>\n",
       "      <td>0</td>\n",
       "      <td>0</td>\n",
       "    </tr>\n",
       "    <tr>\n",
       "      <th>2</th>\n",
       "      <td>0</td>\n",
       "      <td>0</td>\n",
       "      <td>0</td>\n",
       "      <td>0</td>\n",
       "      <td>0</td>\n",
       "      <td>0</td>\n",
       "      <td>0</td>\n",
       "      <td>0</td>\n",
       "      <td>0</td>\n",
       "      <td>0</td>\n",
       "      <td>...</td>\n",
       "      <td>0</td>\n",
       "      <td>0</td>\n",
       "      <td>0</td>\n",
       "      <td>0</td>\n",
       "      <td>0</td>\n",
       "      <td>0</td>\n",
       "      <td>0</td>\n",
       "      <td>0</td>\n",
       "      <td>0</td>\n",
       "      <td>0</td>\n",
       "    </tr>\n",
       "    <tr>\n",
       "      <th>3</th>\n",
       "      <td>0</td>\n",
       "      <td>0</td>\n",
       "      <td>0</td>\n",
       "      <td>0</td>\n",
       "      <td>0</td>\n",
       "      <td>0</td>\n",
       "      <td>1</td>\n",
       "      <td>0</td>\n",
       "      <td>0</td>\n",
       "      <td>0</td>\n",
       "      <td>...</td>\n",
       "      <td>0</td>\n",
       "      <td>0</td>\n",
       "      <td>0</td>\n",
       "      <td>0</td>\n",
       "      <td>0</td>\n",
       "      <td>0</td>\n",
       "      <td>0</td>\n",
       "      <td>0</td>\n",
       "      <td>0</td>\n",
       "      <td>0</td>\n",
       "    </tr>\n",
       "    <tr>\n",
       "      <th>4</th>\n",
       "      <td>0</td>\n",
       "      <td>0</td>\n",
       "      <td>0</td>\n",
       "      <td>0</td>\n",
       "      <td>0</td>\n",
       "      <td>0</td>\n",
       "      <td>1</td>\n",
       "      <td>0</td>\n",
       "      <td>0</td>\n",
       "      <td>0</td>\n",
       "      <td>...</td>\n",
       "      <td>0</td>\n",
       "      <td>0</td>\n",
       "      <td>0</td>\n",
       "      <td>0</td>\n",
       "      <td>0</td>\n",
       "      <td>0</td>\n",
       "      <td>0</td>\n",
       "      <td>0</td>\n",
       "      <td>0</td>\n",
       "      <td>0</td>\n",
       "    </tr>\n",
       "  </tbody>\n",
       "</table>\n",
       "<p>5 rows × 60 columns</p>\n",
       "</div>"
      ],
      "text/plain": [
       "   Adabor  AftabNagar  Agargaon  Badda  Banani  Banasree  Bangshal  Baridhara  \\\n",
       "0       0           0         0      0       0         0         0          0   \n",
       "1       0           0         0      0       0         0         0          0   \n",
       "2       0           0         0      0       0         0         0          0   \n",
       "3       0           0         0      0       0         0         1          0   \n",
       "4       0           0         0      0       0         0         1          0   \n",
       "\n",
       "   Bashabo  BashundharaR-A  ...  Shantinagar  Shegunbagicha  Shiddheswari  \\\n",
       "0        0               0  ...            0              0             0   \n",
       "1        0               0  ...            0              0             0   \n",
       "2        0               0  ...            0              0             0   \n",
       "3        0               0  ...            0              0             0   \n",
       "4        0               0  ...            0              0             0   \n",
       "\n",
       "   Shyamoli  Shyampur  Sutrapur  Tejgaon  Turag  Uttara  Zafrabad  \n",
       "0         0         0         0        0      0       0         0  \n",
       "1         0         0         0        0      0       0         0  \n",
       "2         0         0         0        0      0       0         0  \n",
       "3         0         0         0        0      0       0         0  \n",
       "4         0         0         0        0      0       0         0  \n",
       "\n",
       "[5 rows x 60 columns]"
      ]
     },
     "execution_count": 36,
     "metadata": {},
     "output_type": "execute_result"
    }
   ],
   "source": [
    "dummies= pd.get_dummies(df10.Region)\n",
    "dummies.head()\n",
    "dummies2 = dummies.astype(int)\n",
    "dummies2.head()"
   ]
  },
  {
   "cell_type": "code",
   "execution_count": 39,
   "id": "0cd3b388-a996-45b9-b36d-d55427314f70",
   "metadata": {},
   "outputs": [
    {
     "data": {
      "text/html": [
       "<div>\n",
       "<style scoped>\n",
       "    .dataframe tbody tr th:only-of-type {\n",
       "        vertical-align: middle;\n",
       "    }\n",
       "\n",
       "    .dataframe tbody tr th {\n",
       "        vertical-align: top;\n",
       "    }\n",
       "\n",
       "    .dataframe thead th {\n",
       "        text-align: right;\n",
       "    }\n",
       "</style>\n",
       "<table border=\"1\" class=\"dataframe\">\n",
       "  <thead>\n",
       "    <tr style=\"text-align: right;\">\n",
       "      <th></th>\n",
       "      <th>Price</th>\n",
       "      <th>No. Beds</th>\n",
       "      <th>No. Baths</th>\n",
       "      <th>Area</th>\n",
       "      <th>Region</th>\n",
       "      <th>Adabor</th>\n",
       "      <th>AftabNagar</th>\n",
       "      <th>Agargaon</th>\n",
       "      <th>Badda</th>\n",
       "      <th>Banani</th>\n",
       "      <th>...</th>\n",
       "      <th>Shantinagar</th>\n",
       "      <th>Shegunbagicha</th>\n",
       "      <th>Shiddheswari</th>\n",
       "      <th>Shyamoli</th>\n",
       "      <th>Shyampur</th>\n",
       "      <th>Sutrapur</th>\n",
       "      <th>Tejgaon</th>\n",
       "      <th>Turag</th>\n",
       "      <th>Uttara</th>\n",
       "      <th>Zafrabad</th>\n",
       "    </tr>\n",
       "  </thead>\n",
       "  <tbody>\n",
       "    <tr>\n",
       "      <th>0</th>\n",
       "      <td>16.0</td>\n",
       "      <td>2.0</td>\n",
       "      <td>1.0</td>\n",
       "      <td>400.0</td>\n",
       "      <td>Mugdapara</td>\n",
       "      <td>0</td>\n",
       "      <td>0</td>\n",
       "      <td>0</td>\n",
       "      <td>0</td>\n",
       "      <td>0</td>\n",
       "      <td>...</td>\n",
       "      <td>0</td>\n",
       "      <td>0</td>\n",
       "      <td>0</td>\n",
       "      <td>0</td>\n",
       "      <td>0</td>\n",
       "      <td>0</td>\n",
       "      <td>0</td>\n",
       "      <td>0</td>\n",
       "      <td>0</td>\n",
       "      <td>0</td>\n",
       "    </tr>\n",
       "    <tr>\n",
       "      <th>1</th>\n",
       "      <td>16.0</td>\n",
       "      <td>2.0</td>\n",
       "      <td>1.0</td>\n",
       "      <td>400.0</td>\n",
       "      <td>Lalbagh</td>\n",
       "      <td>0</td>\n",
       "      <td>0</td>\n",
       "      <td>0</td>\n",
       "      <td>0</td>\n",
       "      <td>0</td>\n",
       "      <td>...</td>\n",
       "      <td>0</td>\n",
       "      <td>0</td>\n",
       "      <td>0</td>\n",
       "      <td>0</td>\n",
       "      <td>0</td>\n",
       "      <td>0</td>\n",
       "      <td>0</td>\n",
       "      <td>0</td>\n",
       "      <td>0</td>\n",
       "      <td>0</td>\n",
       "    </tr>\n",
       "    <tr>\n",
       "      <th>2</th>\n",
       "      <td>16.0</td>\n",
       "      <td>2.0</td>\n",
       "      <td>1.0</td>\n",
       "      <td>450.0</td>\n",
       "      <td>Cantonment</td>\n",
       "      <td>0</td>\n",
       "      <td>0</td>\n",
       "      <td>0</td>\n",
       "      <td>0</td>\n",
       "      <td>0</td>\n",
       "      <td>...</td>\n",
       "      <td>0</td>\n",
       "      <td>0</td>\n",
       "      <td>0</td>\n",
       "      <td>0</td>\n",
       "      <td>0</td>\n",
       "      <td>0</td>\n",
       "      <td>0</td>\n",
       "      <td>0</td>\n",
       "      <td>0</td>\n",
       "      <td>0</td>\n",
       "    </tr>\n",
       "    <tr>\n",
       "      <th>3</th>\n",
       "      <td>18.3</td>\n",
       "      <td>2.0</td>\n",
       "      <td>1.0</td>\n",
       "      <td>450.0</td>\n",
       "      <td>Bangshal</td>\n",
       "      <td>0</td>\n",
       "      <td>0</td>\n",
       "      <td>0</td>\n",
       "      <td>0</td>\n",
       "      <td>0</td>\n",
       "      <td>...</td>\n",
       "      <td>0</td>\n",
       "      <td>0</td>\n",
       "      <td>0</td>\n",
       "      <td>0</td>\n",
       "      <td>0</td>\n",
       "      <td>0</td>\n",
       "      <td>0</td>\n",
       "      <td>0</td>\n",
       "      <td>0</td>\n",
       "      <td>0</td>\n",
       "    </tr>\n",
       "    <tr>\n",
       "      <th>4</th>\n",
       "      <td>18.3</td>\n",
       "      <td>2.0</td>\n",
       "      <td>1.0</td>\n",
       "      <td>450.0</td>\n",
       "      <td>Bangshal</td>\n",
       "      <td>0</td>\n",
       "      <td>0</td>\n",
       "      <td>0</td>\n",
       "      <td>0</td>\n",
       "      <td>0</td>\n",
       "      <td>...</td>\n",
       "      <td>0</td>\n",
       "      <td>0</td>\n",
       "      <td>0</td>\n",
       "      <td>0</td>\n",
       "      <td>0</td>\n",
       "      <td>0</td>\n",
       "      <td>0</td>\n",
       "      <td>0</td>\n",
       "      <td>0</td>\n",
       "      <td>0</td>\n",
       "    </tr>\n",
       "  </tbody>\n",
       "</table>\n",
       "<p>5 rows × 65 columns</p>\n",
       "</div>"
      ],
      "text/plain": [
       "   Price  No. Beds  No. Baths   Area      Region  Adabor  AftabNagar  \\\n",
       "0   16.0       2.0        1.0  400.0   Mugdapara       0           0   \n",
       "1   16.0       2.0        1.0  400.0     Lalbagh       0           0   \n",
       "2   16.0       2.0        1.0  450.0  Cantonment       0           0   \n",
       "3   18.3       2.0        1.0  450.0    Bangshal       0           0   \n",
       "4   18.3       2.0        1.0  450.0    Bangshal       0           0   \n",
       "\n",
       "   Agargaon  Badda  Banani  ...  Shantinagar  Shegunbagicha  Shiddheswari  \\\n",
       "0         0      0       0  ...            0              0             0   \n",
       "1         0      0       0  ...            0              0             0   \n",
       "2         0      0       0  ...            0              0             0   \n",
       "3         0      0       0  ...            0              0             0   \n",
       "4         0      0       0  ...            0              0             0   \n",
       "\n",
       "   Shyamoli  Shyampur  Sutrapur  Tejgaon  Turag  Uttara  Zafrabad  \n",
       "0         0         0         0        0      0       0         0  \n",
       "1         0         0         0        0      0       0         0  \n",
       "2         0         0         0        0      0       0         0  \n",
       "3         0         0         0        0      0       0         0  \n",
       "4         0         0         0        0      0       0         0  \n",
       "\n",
       "[5 rows x 65 columns]"
      ]
     },
     "execution_count": 39,
     "metadata": {},
     "output_type": "execute_result"
    }
   ],
   "source": [
    "df11= pd.concat([df10, dummies2] ,axis='columns')\n",
    "df11.head()"
   ]
  },
  {
   "cell_type": "code",
   "execution_count": 41,
   "id": "df676b66-16f1-438f-8c8d-18883bf38778",
   "metadata": {},
   "outputs": [
    {
     "data": {
      "text/html": [
       "<div>\n",
       "<style scoped>\n",
       "    .dataframe tbody tr th:only-of-type {\n",
       "        vertical-align: middle;\n",
       "    }\n",
       "\n",
       "    .dataframe tbody tr th {\n",
       "        vertical-align: top;\n",
       "    }\n",
       "\n",
       "    .dataframe thead th {\n",
       "        text-align: right;\n",
       "    }\n",
       "</style>\n",
       "<table border=\"1\" class=\"dataframe\">\n",
       "  <thead>\n",
       "    <tr style=\"text-align: right;\">\n",
       "      <th></th>\n",
       "      <th>Price</th>\n",
       "      <th>No. Beds</th>\n",
       "      <th>No. Baths</th>\n",
       "      <th>Area</th>\n",
       "      <th>Adabor</th>\n",
       "      <th>AftabNagar</th>\n",
       "      <th>Agargaon</th>\n",
       "      <th>Badda</th>\n",
       "      <th>Banani</th>\n",
       "      <th>Banasree</th>\n",
       "      <th>...</th>\n",
       "      <th>Shantinagar</th>\n",
       "      <th>Shegunbagicha</th>\n",
       "      <th>Shiddheswari</th>\n",
       "      <th>Shyamoli</th>\n",
       "      <th>Shyampur</th>\n",
       "      <th>Sutrapur</th>\n",
       "      <th>Tejgaon</th>\n",
       "      <th>Turag</th>\n",
       "      <th>Uttara</th>\n",
       "      <th>Zafrabad</th>\n",
       "    </tr>\n",
       "  </thead>\n",
       "  <tbody>\n",
       "    <tr>\n",
       "      <th>0</th>\n",
       "      <td>16.0</td>\n",
       "      <td>2.0</td>\n",
       "      <td>1.0</td>\n",
       "      <td>400.0</td>\n",
       "      <td>0</td>\n",
       "      <td>0</td>\n",
       "      <td>0</td>\n",
       "      <td>0</td>\n",
       "      <td>0</td>\n",
       "      <td>0</td>\n",
       "      <td>...</td>\n",
       "      <td>0</td>\n",
       "      <td>0</td>\n",
       "      <td>0</td>\n",
       "      <td>0</td>\n",
       "      <td>0</td>\n",
       "      <td>0</td>\n",
       "      <td>0</td>\n",
       "      <td>0</td>\n",
       "      <td>0</td>\n",
       "      <td>0</td>\n",
       "    </tr>\n",
       "    <tr>\n",
       "      <th>1</th>\n",
       "      <td>16.0</td>\n",
       "      <td>2.0</td>\n",
       "      <td>1.0</td>\n",
       "      <td>400.0</td>\n",
       "      <td>0</td>\n",
       "      <td>0</td>\n",
       "      <td>0</td>\n",
       "      <td>0</td>\n",
       "      <td>0</td>\n",
       "      <td>0</td>\n",
       "      <td>...</td>\n",
       "      <td>0</td>\n",
       "      <td>0</td>\n",
       "      <td>0</td>\n",
       "      <td>0</td>\n",
       "      <td>0</td>\n",
       "      <td>0</td>\n",
       "      <td>0</td>\n",
       "      <td>0</td>\n",
       "      <td>0</td>\n",
       "      <td>0</td>\n",
       "    </tr>\n",
       "  </tbody>\n",
       "</table>\n",
       "<p>2 rows × 64 columns</p>\n",
       "</div>"
      ],
      "text/plain": [
       "   Price  No. Beds  No. Baths   Area  Adabor  AftabNagar  Agargaon  Badda  \\\n",
       "0   16.0       2.0        1.0  400.0       0           0         0      0   \n",
       "1   16.0       2.0        1.0  400.0       0           0         0      0   \n",
       "\n",
       "   Banani  Banasree  ...  Shantinagar  Shegunbagicha  Shiddheswari  Shyamoli  \\\n",
       "0       0         0  ...            0              0             0         0   \n",
       "1       0         0  ...            0              0             0         0   \n",
       "\n",
       "   Shyampur  Sutrapur  Tejgaon  Turag  Uttara  Zafrabad  \n",
       "0         0         0        0      0       0         0  \n",
       "1         0         0        0      0       0         0  \n",
       "\n",
       "[2 rows x 64 columns]"
      ]
     },
     "execution_count": 41,
     "metadata": {},
     "output_type": "execute_result"
    }
   ],
   "source": [
    "\n",
    "df12 = df11.drop('Region',axis='columns')\n",
    "df12.head(2)"
   ]
  },
  {
   "cell_type": "code",
   "execution_count": 42,
   "id": "9ffcdede-07d8-4697-ba5e-6e003059b1f2",
   "metadata": {},
   "outputs": [
    {
     "data": {
      "text/plain": [
       "(2271, 64)"
      ]
     },
     "execution_count": 42,
     "metadata": {},
     "output_type": "execute_result"
    }
   ],
   "source": [
    "\n",
    "df12.shape"
   ]
  },
  {
   "cell_type": "code",
   "execution_count": 44,
   "id": "36e180e3-9664-4d99-b16c-20c8fe04e177",
   "metadata": {},
   "outputs": [
    {
     "data": {
      "text/html": [
       "<div>\n",
       "<style scoped>\n",
       "    .dataframe tbody tr th:only-of-type {\n",
       "        vertical-align: middle;\n",
       "    }\n",
       "\n",
       "    .dataframe tbody tr th {\n",
       "        vertical-align: top;\n",
       "    }\n",
       "\n",
       "    .dataframe thead th {\n",
       "        text-align: right;\n",
       "    }\n",
       "</style>\n",
       "<table border=\"1\" class=\"dataframe\">\n",
       "  <thead>\n",
       "    <tr style=\"text-align: right;\">\n",
       "      <th></th>\n",
       "      <th>No. Beds</th>\n",
       "      <th>No. Baths</th>\n",
       "      <th>Area</th>\n",
       "      <th>Adabor</th>\n",
       "      <th>AftabNagar</th>\n",
       "      <th>Agargaon</th>\n",
       "      <th>Badda</th>\n",
       "      <th>Banani</th>\n",
       "      <th>Banasree</th>\n",
       "      <th>Bangshal</th>\n",
       "      <th>...</th>\n",
       "      <th>Shantinagar</th>\n",
       "      <th>Shegunbagicha</th>\n",
       "      <th>Shiddheswari</th>\n",
       "      <th>Shyamoli</th>\n",
       "      <th>Shyampur</th>\n",
       "      <th>Sutrapur</th>\n",
       "      <th>Tejgaon</th>\n",
       "      <th>Turag</th>\n",
       "      <th>Uttara</th>\n",
       "      <th>Zafrabad</th>\n",
       "    </tr>\n",
       "  </thead>\n",
       "  <tbody>\n",
       "    <tr>\n",
       "      <th>0</th>\n",
       "      <td>2.0</td>\n",
       "      <td>1.0</td>\n",
       "      <td>400.0</td>\n",
       "      <td>0</td>\n",
       "      <td>0</td>\n",
       "      <td>0</td>\n",
       "      <td>0</td>\n",
       "      <td>0</td>\n",
       "      <td>0</td>\n",
       "      <td>0</td>\n",
       "      <td>...</td>\n",
       "      <td>0</td>\n",
       "      <td>0</td>\n",
       "      <td>0</td>\n",
       "      <td>0</td>\n",
       "      <td>0</td>\n",
       "      <td>0</td>\n",
       "      <td>0</td>\n",
       "      <td>0</td>\n",
       "      <td>0</td>\n",
       "      <td>0</td>\n",
       "    </tr>\n",
       "    <tr>\n",
       "      <th>1</th>\n",
       "      <td>2.0</td>\n",
       "      <td>1.0</td>\n",
       "      <td>400.0</td>\n",
       "      <td>0</td>\n",
       "      <td>0</td>\n",
       "      <td>0</td>\n",
       "      <td>0</td>\n",
       "      <td>0</td>\n",
       "      <td>0</td>\n",
       "      <td>0</td>\n",
       "      <td>...</td>\n",
       "      <td>0</td>\n",
       "      <td>0</td>\n",
       "      <td>0</td>\n",
       "      <td>0</td>\n",
       "      <td>0</td>\n",
       "      <td>0</td>\n",
       "      <td>0</td>\n",
       "      <td>0</td>\n",
       "      <td>0</td>\n",
       "      <td>0</td>\n",
       "    </tr>\n",
       "    <tr>\n",
       "      <th>2</th>\n",
       "      <td>2.0</td>\n",
       "      <td>1.0</td>\n",
       "      <td>450.0</td>\n",
       "      <td>0</td>\n",
       "      <td>0</td>\n",
       "      <td>0</td>\n",
       "      <td>0</td>\n",
       "      <td>0</td>\n",
       "      <td>0</td>\n",
       "      <td>0</td>\n",
       "      <td>...</td>\n",
       "      <td>0</td>\n",
       "      <td>0</td>\n",
       "      <td>0</td>\n",
       "      <td>0</td>\n",
       "      <td>0</td>\n",
       "      <td>0</td>\n",
       "      <td>0</td>\n",
       "      <td>0</td>\n",
       "      <td>0</td>\n",
       "      <td>0</td>\n",
       "    </tr>\n",
       "  </tbody>\n",
       "</table>\n",
       "<p>3 rows × 63 columns</p>\n",
       "</div>"
      ],
      "text/plain": [
       "   No. Beds  No. Baths   Area  Adabor  AftabNagar  Agargaon  Badda  Banani  \\\n",
       "0       2.0        1.0  400.0       0           0         0      0       0   \n",
       "1       2.0        1.0  400.0       0           0         0      0       0   \n",
       "2       2.0        1.0  450.0       0           0         0      0       0   \n",
       "\n",
       "   Banasree  Bangshal  ...  Shantinagar  Shegunbagicha  Shiddheswari  \\\n",
       "0         0         0  ...            0              0             0   \n",
       "1         0         0  ...            0              0             0   \n",
       "2         0         0  ...            0              0             0   \n",
       "\n",
       "   Shyamoli  Shyampur  Sutrapur  Tejgaon  Turag  Uttara  Zafrabad  \n",
       "0         0         0         0        0      0       0         0  \n",
       "1         0         0         0        0      0       0         0  \n",
       "2         0         0         0        0      0       0         0  \n",
       "\n",
       "[3 rows x 63 columns]"
      ]
     },
     "execution_count": 44,
     "metadata": {},
     "output_type": "execute_result"
    }
   ],
   "source": [
    "\n",
    "X = df12.drop(['Price'],axis='columns')\n",
    "X.head(3)"
   ]
  },
  {
   "cell_type": "code",
   "execution_count": 45,
   "id": "1b02813b-9d0a-422d-959d-769dfa602fb1",
   "metadata": {},
   "outputs": [
    {
     "data": {
      "text/plain": [
       "(2271, 63)"
      ]
     },
     "execution_count": 45,
     "metadata": {},
     "output_type": "execute_result"
    }
   ],
   "source": [
    "\n",
    "X.shape"
   ]
  },
  {
   "cell_type": "code",
   "execution_count": 46,
   "id": "e710352d-85b1-48a2-8773-b83a33a6d4c3",
   "metadata": {},
   "outputs": [
    {
     "data": {
      "text/plain": [
       "0    16.0\n",
       "1    16.0\n",
       "2    16.0\n",
       "Name: Price, dtype: float64"
      ]
     },
     "execution_count": 46,
     "metadata": {},
     "output_type": "execute_result"
    }
   ],
   "source": [
    "y = df12.Price\n",
    "y.head(3)"
   ]
  },
  {
   "cell_type": "code",
   "execution_count": 47,
   "id": "218fbb15-134a-40a5-8f2b-e2231db4ade3",
   "metadata": {},
   "outputs": [
    {
     "data": {
      "text/plain": [
       "2271"
      ]
     },
     "execution_count": 47,
     "metadata": {},
     "output_type": "execute_result"
    }
   ],
   "source": [
    "\n",
    "len(y)"
   ]
  },
  {
   "cell_type": "code",
   "execution_count": 56,
   "id": "e5c31879-1471-4844-b8f6-fe1a791b9a15",
   "metadata": {},
   "outputs": [],
   "source": [
    "\n",
    "from sklearn.model_selection import train_test_split\n",
    "X_train, X_test, y_train, y_test = train_test_split(X,y,test_size=0.2,random_state=10)"
   ]
  },
  {
   "cell_type": "code",
   "execution_count": 88,
   "id": "739daa76-579e-44e1-b269-ccbee0570963",
   "metadata": {},
   "outputs": [
    {
     "data": {
      "text/plain": [
       "0.9302864184615276"
      ]
     },
     "execution_count": 88,
     "metadata": {},
     "output_type": "execute_result"
    }
   ],
   "source": [
    "from sklearn.model_selection import GridSearchCV\n",
    "from sklearn.tree import DecisionTreeRegressor\n",
    "\n",
    "# Define the model\n",
    "dt_clf = DecisionTreeRegressor(random_state=42)\n",
    "\n",
    "# Hyperparameter grid to search over\n",
    "param_grid = {\n",
    "    'criterion': ['squared_error', 'friedman_mse'],  # Different loss functions\n",
    "    'splitter': ['best', 'random'],                  # Different splitting strategies\n",
    "    'max_depth': [None, 5, 10, 15, 20],              # Maximum depth options\n",
    "    'min_samples_split': [2, 5, 10],                 # Minimum samples required to split\n",
    "    'min_samples_leaf': [1, 5, 10],                  # Minimum samples required at leaf node\n",
    "    'max_features': [None, 'sqrt', 'log2'],          # Number of features to consider\n",
    "}\n",
    "\n",
    "# Initialize GridSearchCV\n",
    "grid_search = GridSearchCV(estimator=dt_clf, param_grid=param_grid, cv=5, scoring='r2')\n",
    "\n",
    "# Fit GridSearchCV to training data\n",
    "grid_search.fit(X_train, y_train)\n",
    "grid_search.score(X_test, y_test)\n",
    "\n"
   ]
  },
  {
   "cell_type": "code",
   "execution_count": 89,
   "id": "ec8b614a-04e7-4437-a6e7-e51eed283333",
   "metadata": {},
   "outputs": [
    {
     "data": {
      "text/html": [
       "<div>\n",
       "<style scoped>\n",
       "    .dataframe tbody tr th:only-of-type {\n",
       "        vertical-align: middle;\n",
       "    }\n",
       "\n",
       "    .dataframe tbody tr th {\n",
       "        vertical-align: top;\n",
       "    }\n",
       "\n",
       "    .dataframe thead th {\n",
       "        text-align: right;\n",
       "    }\n",
       "</style>\n",
       "<table border=\"1\" class=\"dataframe\">\n",
       "  <thead>\n",
       "    <tr style=\"text-align: right;\">\n",
       "      <th></th>\n",
       "      <th>model</th>\n",
       "      <th>best_score</th>\n",
       "      <th>best_params</th>\n",
       "    </tr>\n",
       "  </thead>\n",
       "  <tbody>\n",
       "    <tr>\n",
       "      <th>0</th>\n",
       "      <td>linear_regression</td>\n",
       "      <td>0.857706</td>\n",
       "      <td>{'fit_intercept': True}</td>\n",
       "    </tr>\n",
       "    <tr>\n",
       "      <th>1</th>\n",
       "      <td>lasso</td>\n",
       "      <td>0.801572</td>\n",
       "      <td>{'alpha': 1, 'selection': 'random'}</td>\n",
       "    </tr>\n",
       "    <tr>\n",
       "      <th>2</th>\n",
       "      <td>decision_tree</td>\n",
       "      <td>0.925220</td>\n",
       "      <td>{'criterion': 'friedman_mse', 'splitter': 'ran...</td>\n",
       "    </tr>\n",
       "  </tbody>\n",
       "</table>\n",
       "</div>"
      ],
      "text/plain": [
       "               model  best_score  \\\n",
       "0  linear_regression    0.857706   \n",
       "1              lasso    0.801572   \n",
       "2      decision_tree    0.925220   \n",
       "\n",
       "                                         best_params  \n",
       "0                            {'fit_intercept': True}  \n",
       "1                {'alpha': 1, 'selection': 'random'}  \n",
       "2  {'criterion': 'friedman_mse', 'splitter': 'ran...  "
      ]
     },
     "execution_count": 89,
     "metadata": {},
     "output_type": "execute_result"
    }
   ],
   "source": [
    "from sklearn.model_selection import GridSearchCV, ShuffleSplit\n",
    "from sklearn.linear_model import LinearRegression, Lasso\n",
    "from sklearn.tree import DecisionTreeRegressor\n",
    "from sklearn.preprocessing import StandardScaler\n",
    "import pandas as pd\n",
    "\n",
    "def find_best_model_using_gridsearchcv(x, y):\n",
    "    algos = {\n",
    "        'linear_regression': {\n",
    "            'model': LinearRegression(),\n",
    "            'params': {  # Removed 'normalize' as it is no longer valid\n",
    "                'fit_intercept': [True, False]  # Valid parameter for LinearRegression\n",
    "            }\n",
    "        },\n",
    "        'lasso': {\n",
    "            'model': Lasso(),\n",
    "            'params': {\n",
    "                'alpha': [1, 2],\n",
    "                'selection': ['random', 'cyclic']\n",
    "            }\n",
    "        },\n",
    "        'decision_tree': {\n",
    "            'model': DecisionTreeRegressor(),\n",
    "            'params': {\n",
    "                'criterion': ['squared_error', 'friedman_mse'],\n",
    "                'splitter': ['best', 'random']\n",
    "            }\n",
    "        }\n",
    "    }\n",
    "    scores = []\n",
    "    cv = ShuffleSplit(n_splits=5, test_size=0.2, random_state=0)\n",
    "    \n",
    "    for algo_name, config in algos.items():\n",
    "        gs = GridSearchCV(config['model'], config['params'], cv=cv, return_train_score=False)\n",
    "        gs.fit(x, y)\n",
    "        scores.append({\n",
    "            'model': algo_name,\n",
    "            'best_score': gs.best_score_,\n",
    "            'best_params': gs.best_params_\n",
    "        })\n",
    "\n",
    "    return pd.DataFrame(scores, columns=['model', 'best_score', 'best_params'])\n",
    "\n",
    "# Example usage\n",
    "# Assume X and y are your features and target variables\n",
    "# If normalization/standardization is required, preprocess X as follows:\n",
    "\n",
    "# X = StandardScaler().fit_transform(X)\n",
    "\n",
    "# Call the function\n",
    "find_best_model_using_gridsearchcv(X, y)\n",
    "# print(df_results)\n"
   ]
  },
  {
   "cell_type": "code",
   "execution_count": 91,
   "id": "c2ce2f7b-5f3b-489f-a2c3-2b8f23cfacdb",
   "metadata": {},
   "outputs": [],
   "source": [
    "def predict_price(location,sqft,bath,bhk):    \n",
    "    loc_index = np.where(X.columns==location)[0][0]\n",
    "\n",
    "    x = np.zeros(len(X.columns))\n",
    "    x[0] = sqft\n",
    "    x[1] = bath\n",
    "    x[2] = bhk\n",
    "    if loc_index >= 0:\n",
    "        x[loc_index] = 1\n",
    "\n",
    "    return grid_search.predict([x])[0]"
   ]
  },
  {
   "cell_type": "code",
   "execution_count": 92,
   "id": "53957be3-47eb-4b13-b3c5-9817f0cf9e88",
   "metadata": {},
   "outputs": [
    {
     "name": "stderr",
     "output_type": "stream",
     "text": [
      "C:\\Users\\akram\\AppData\\Local\\Programs\\Python\\Python312\\Lib\\site-packages\\sklearn\\base.py:493: UserWarning: X does not have valid feature names, but DecisionTreeRegressor was fitted with feature names\n",
      "  warnings.warn(\n"
     ]
    },
    {
     "data": {
      "text/plain": [
       "np.float64(48.0)"
      ]
     },
     "execution_count": 92,
     "metadata": {},
     "output_type": "execute_result"
    }
   ],
   "source": [
    "predict_price('Mohammadpur',1265, 3, 3)"
   ]
  },
  {
   "cell_type": "code",
   "execution_count": 93,
   "id": "7e35e39e-f95a-498d-8b22-72feff5b3863",
   "metadata": {},
   "outputs": [],
   "source": [
    "\n",
    "import pickle\n",
    "with open('Bangladesh_property_prices.pickle','wb') as f:\n",
    "    pickle.dump(grid_search,f)"
   ]
  },
  {
   "cell_type": "code",
   "execution_count": 94,
   "id": "d60eedae-3f32-455a-b71a-93d281140e42",
   "metadata": {},
   "outputs": [],
   "source": [
    "import json\n",
    "columns = {\n",
    "    'data_columns' : [col.lower() for col in X.columns]\n",
    "}\n",
    "with open(\"columns.json\",\"w\") as f:\n",
    "    f.write(json.dumps(columns))"
   ]
  },
  {
   "cell_type": "code",
   "execution_count": null,
   "id": "bf47254e-979b-4f94-ac52-8ca5131b1c58",
   "metadata": {},
   "outputs": [],
   "source": []
  }
 ],
 "metadata": {
  "kernelspec": {
   "display_name": "Python 3 (ipykernel)",
   "language": "python",
   "name": "python3"
  },
  "language_info": {
   "codemirror_mode": {
    "name": "ipython",
    "version": 3
   },
   "file_extension": ".py",
   "mimetype": "text/x-python",
   "name": "python",
   "nbconvert_exporter": "python",
   "pygments_lexer": "ipython3",
   "version": "3.12.7"
  },
  "widgets": {
   "application/vnd.jupyter.widget-state+json": {
    "state": {},
    "version_major": 2,
    "version_minor": 0
   }
  }
 },
 "nbformat": 4,
 "nbformat_minor": 5
}
